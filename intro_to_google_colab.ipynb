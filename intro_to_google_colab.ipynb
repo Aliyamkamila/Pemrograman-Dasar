{
  "nbformat": 4,
  "nbformat_minor": 0,
  "metadata": {
    "colab": {
      "provenance": [],
      "authorship_tag": "ABX9TyNPEWH0AWZGebYuWaLuLSr/",
      "include_colab_link": true
    },
    "kernelspec": {
      "name": "python3",
      "display_name": "Python 3"
    },
    "language_info": {
      "name": "python"
    }
  },
  "cells": [
    {
      "cell_type": "markdown",
      "metadata": {
        "id": "view-in-github",
        "colab_type": "text"
      },
      "source": [
        "<a href=\"https://colab.research.google.com/github/Aliyamkamila/Pemrograman-Dasar/blob/main/intro_to_google_colab.ipynb\" target=\"_parent\"><img src=\"https://colab.research.google.com/assets/colab-badge.svg\" alt=\"Open In Colab\"/></a>"
      ]
    },
    {
      "cell_type": "code",
      "execution_count": 1,
      "metadata": {
        "colab": {
          "base_uri": "https://localhost:8080/"
        },
        "id": "7MiClh9Gg9Rm",
        "outputId": "c6e8ece7-6a69-4b9d-ef43-496070b78122"
      },
      "outputs": [
        {
          "output_type": "execute_result",
          "data": {
            "text/plain": [
              "15"
            ]
          },
          "metadata": {},
          "execution_count": 1
        }
      ],
      "source": [
        "a = 15\n",
        "a"
      ]
    },
    {
      "cell_type": "markdown",
      "source": [
        "- ctrl+enter = run\n",
        "- shift+enter = run + jump to next cell (creat new onne if none exist)\n",
        "- alt+enter = run + insert a new code cell below it\n"
      ],
      "metadata": {
        "id": "hfVWtKvmh4Q2"
      }
    },
    {
      "cell_type": "markdown",
      "source": [
        "Shell commands"
      ],
      "metadata": {
        "id": "lyjaDPDNizs2"
      }
    },
    {
      "cell_type": "code",
      "source": [
        "!ls"
      ],
      "metadata": {
        "colab": {
          "base_uri": "https://localhost:8080/"
        },
        "id": "ZcWG8PSPi4KT",
        "outputId": "fe28bec2-08b5-4621-a5c0-16b49c67c367"
      },
      "execution_count": 2,
      "outputs": [
        {
          "output_type": "stream",
          "name": "stdout",
          "text": [
            "sample_data\n"
          ]
        }
      ]
    }
  ]
}